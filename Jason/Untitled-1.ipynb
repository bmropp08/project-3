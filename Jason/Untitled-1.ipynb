{
 "cells": [
  {
   "cell_type": "code",
   "execution_count": 1,
   "metadata": {},
   "outputs": [
    {
     "ename": "SyntaxError",
     "evalue": "EOL while scanning string literal (452366598.py, line 8)",
     "output_type": "error",
     "traceback": [
      "\u001b[1;36m  File \u001b[1;32m\"C:\\Users\\nside\\AppData\\Local\\Temp\\ipykernel_46796\\452366598.py\"\u001b[1;36m, line \u001b[1;32m8\u001b[0m\n\u001b[1;33m    query = \"SELECT * FROM results JOIN races ON results.raceId = races.raceId JOIN drivers ON drivers.driverId = results.driverId;\"\"\u001b[0m\n\u001b[1;37m                                                                                                                                     ^\u001b[0m\n\u001b[1;31mSyntaxError\u001b[0m\u001b[1;31m:\u001b[0m EOL while scanning string literal\n"
     ]
    }
   ],
   "source": [
    "import sqlite3\n",
    "import pandas as pd\n",
    "\n",
    "# Connect to the SQLite database\n",
    "conn = sqlite3.connect('project-3\\Jason\\formula1_database.db')  # Replace 'your_database.db' with your database file name\n",
    "\n",
    "# Query the table and load the results into a DataFrame\n",
    "query = \"SELECT * FROM results JOIN races ON results.raceId = races.raceId JOIN drivers ON drivers.driverId = results.driverId;\"\"\n",
    "  # Replace 'your_table' with your table name\n",
    "df = pd.read_sql_query(query, conn)\n",
    "\n",
    "# Close the database connection\n",
    "conn.close()\n",
    "\n",
    "# Display the DataFrame\n",
    "print(df)\n"
   ]
  }
 ],
 "metadata": {
  "kernelspec": {
   "display_name": "base",
   "language": "python",
   "name": "python3"
  },
  "language_info": {
   "codemirror_mode": {
    "name": "ipython",
    "version": 3
   },
   "file_extension": ".py",
   "mimetype": "text/x-python",
   "name": "python",
   "nbconvert_exporter": "python",
   "pygments_lexer": "ipython3",
   "version": "3.9.13"
  },
  "orig_nbformat": 4
 },
 "nbformat": 4,
 "nbformat_minor": 2
}
