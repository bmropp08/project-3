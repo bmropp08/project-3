{
 "cells": [
  {
   "cell_type": "code",
   "execution_count": 1,
   "metadata": {},
   "outputs": [],
   "source": [
    "import sqlite3\n",
    "import csv\n",
    "import os\n",
    "\n",
    "# Connect to the SQLite database\n",
    "conn = sqlite3.connect('formula1_database.db')\n",
    "cursor = conn.cursor()\n",
    "\n",
    "# List all CSV files in the directory\n",
    "csv_files = [file for file in os.listdir('.') if file.endswith('.csv')]\n",
    "\n",
    "# Iterate over each CSV file\n",
    "for file in csv_files:\n",
    "    # Get the table name from the CSV file name (remove the file extension)\n",
    "    table_name = os.path.splitext(file)[0]\n",
    "\n",
    "    # Read the CSV file and get the header and data\n",
    "    with open(file, 'r') as csv_file:\n",
    "        reader = csv.reader(csv_file)\n",
    "        header = next(reader)  # Read the header\n",
    "        data = [row for row in reader]  # Read the data\n",
    "\n",
    "    # Create the table in the SQLite database\n",
    "    create_table_query = f\"CREATE TABLE IF NOT EXISTS {table_name} ({', '.join(header)})\"\n",
    "    cursor.execute(create_table_query)\n",
    "\n",
    "    # Insert the data into the table\n",
    "    insert_query = f\"INSERT INTO {table_name} VALUES ({', '.join(['?'] * len(header))})\"\n",
    "    cursor.executemany(insert_query, data)\n",
    "\n",
    "# Commit the changes and close the connection\n",
    "conn.commit()\n",
    "conn.close()\n"
   ]
  }
 ],
 "metadata": {
  "kernelspec": {
   "display_name": "base",
   "language": "python",
   "name": "python3"
  },
  "language_info": {
   "codemirror_mode": {
    "name": "ipython",
    "version": 3
   },
   "file_extension": ".py",
   "mimetype": "text/x-python",
   "name": "python",
   "nbconvert_exporter": "python",
   "pygments_lexer": "ipython3",
   "version": "3.9.13"
  },
  "orig_nbformat": 4
 },
 "nbformat": 4,
 "nbformat_minor": 2
}
