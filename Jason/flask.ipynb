{
 "cells": [
  {
   "cell_type": "code",
   "execution_count": null,
   "metadata": {},
   "outputs": [],
   "source": [
    "from flask import Flask, jsonify, render_template\n"
   ]
  },
  {
   "cell_type": "code",
   "execution_count": null,
   "metadata": {},
   "outputs": [],
   "source": [
    "app = Flask(__name__)\n"
   ]
  },
  {
   "cell_type": "code",
   "execution_count": null,
   "metadata": {},
   "outputs": [],
   "source": [
    "@app.route('/data')\n",
    "def get_data():\n",
    "    import sqlite3\n",
    "\n",
    "    # Connect to the SQLite database\n",
    "    conn = sqlite3.connect('BryansDatabase.db')\n",
    "\n",
    "    # Create a cursor object to execute SQL queries\n",
    "    cursor = conn.cursor()\n",
    "\n",
    "    # Retrieve data from the \"results\" table\n",
    "    cursor.execute(\"SELECT * FROM results\")\n",
    "    results = cursor.fetchall()\n",
    "\n",
    "    # Retrieve data from the \"races\" table\n",
    "    cursor.execute(\"SELECT * FROM races\")\n",
    "    races = cursor.fetchall()\n",
    "\n",
    "    # Close the database connection\n",
    "    conn.close()\n",
    "\n",
    "    # Return the data as JSON\n",
    "    return jsonify({'results': results, 'races': races})\n"
   ]
  },
  {
   "cell_type": "code",
   "execution_count": null,
   "metadata": {},
   "outputs": [],
   "source": [
    "@app.route('/')\n",
    "def index():\n",
    "    return render_template('index.html')\n"
   ]
  },
  {
   "cell_type": "code",
   "execution_count": null,
   "metadata": {},
   "outputs": [],
   "source": [
    "# HTML\n",
    "# <!DOCTYPE html>\n",
    "# <html>\n",
    "# <head>\n",
    "#     <title>SQLite Data</title>\n",
    "# </head>\n",
    "# <body>\n",
    "#     <script>\n",
    "#         fetch('/data')\n",
    "#             .then(response => response.json())\n",
    "#             .then(data => {\n",
    "#                 // Access the data from the \"results\" and \"races\" tables\n",
    "#                 const results = data.results;\n",
    "#                 const races = data.races;\n",
    "\n",
    "#                 // Perform further processing or visualization with the retrieved data\n",
    "#                 console.log(results);\n",
    "#                 console.log(races);\n",
    "#             })\n",
    "#             .catch(error => console.error('Error:', error));\n",
    "#     </script>\n",
    "# </body>\n",
    "# </html>\n"
   ]
  },
  {
   "cell_type": "code",
   "execution_count": null,
   "metadata": {},
   "outputs": [],
   "source": [
    "if __name__ == '__main__':\n",
    "    app.run()\n"
   ]
  }
 ],
 "metadata": {
  "kernelspec": {
   "display_name": "base",
   "language": "python",
   "name": "python3"
  },
  "language_info": {
   "name": "python",
   "version": "3.9.13"
  },
  "orig_nbformat": 4
 },
 "nbformat": 4,
 "nbformat_minor": 2
}
