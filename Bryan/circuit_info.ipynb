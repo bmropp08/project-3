{
 "cells": [
  {
   "cell_type": "code",
   "execution_count": 14,
   "metadata": {},
   "outputs": [],
   "source": [
    "#Dependencies\n",
    "import json\n",
    "import os\n",
    "import pandas as pd\n",
    "\n",
    "# Load JSON\n",
    "filepath = os.path.join(\"..\",\"Lucas\", \"circuits.json\")\n",
    "with open(filepath) as jsonfile:\n",
    "    circuit_data = json.load(jsonfile)"
   ]
  },
  {
   "cell_type": "code",
   "execution_count": 15,
   "metadata": {},
   "outputs": [
    {
     "data": {
      "text/html": [
       "<div>\n",
       "<style scoped>\n",
       "    .dataframe tbody tr th:only-of-type {\n",
       "        vertical-align: middle;\n",
       "    }\n",
       "\n",
       "    .dataframe tbody tr th {\n",
       "        vertical-align: top;\n",
       "    }\n",
       "\n",
       "    .dataframe thead th {\n",
       "        text-align: right;\n",
       "    }\n",
       "</style>\n",
       "<table border=\"1\" class=\"dataframe\">\n",
       "  <thead>\n",
       "    <tr style=\"text-align: right;\">\n",
       "      <th></th>\n",
       "      <th>circuitId</th>\n",
       "      <th>url</th>\n",
       "      <th>circuitName</th>\n",
       "      <th>Location</th>\n",
       "    </tr>\n",
       "  </thead>\n",
       "  <tbody>\n",
       "    <tr>\n",
       "      <th>0</th>\n",
       "      <td>adelaide</td>\n",
       "      <td>http://en.wikipedia.org/wiki/Adelaide_Street_C...</td>\n",
       "      <td>Adelaide Street Circuit</td>\n",
       "      <td>{'lat': '-34.9272', 'long': '138.617', 'locali...</td>\n",
       "    </tr>\n",
       "    <tr>\n",
       "      <th>1</th>\n",
       "      <td>ain-diab</td>\n",
       "      <td>http://en.wikipedia.org/wiki/Ain-Diab_Circuit</td>\n",
       "      <td>Ain Diab</td>\n",
       "      <td>{'lat': '33.5786', 'long': '-7.6875', 'localit...</td>\n",
       "    </tr>\n",
       "    <tr>\n",
       "      <th>2</th>\n",
       "      <td>aintree</td>\n",
       "      <td>http://en.wikipedia.org/wiki/Aintree_Motor_Rac...</td>\n",
       "      <td>Aintree</td>\n",
       "      <td>{'lat': '53.4769', 'long': '-2.94056', 'locali...</td>\n",
       "    </tr>\n",
       "    <tr>\n",
       "      <th>3</th>\n",
       "      <td>albert_park</td>\n",
       "      <td>http://en.wikipedia.org/wiki/Melbourne_Grand_P...</td>\n",
       "      <td>Albert Park Grand Prix Circuit</td>\n",
       "      <td>{'lat': '-37.8497', 'long': '144.968', 'locali...</td>\n",
       "    </tr>\n",
       "    <tr>\n",
       "      <th>4</th>\n",
       "      <td>americas</td>\n",
       "      <td>http://en.wikipedia.org/wiki/Circuit_of_the_Am...</td>\n",
       "      <td>Circuit of the Americas</td>\n",
       "      <td>{'lat': '30.1328', 'long': '-97.6411', 'locali...</td>\n",
       "    </tr>\n",
       "  </tbody>\n",
       "</table>\n",
       "</div>"
      ],
      "text/plain": [
       "     circuitId                                                url  \\\n",
       "0     adelaide  http://en.wikipedia.org/wiki/Adelaide_Street_C...   \n",
       "1     ain-diab      http://en.wikipedia.org/wiki/Ain-Diab_Circuit   \n",
       "2      aintree  http://en.wikipedia.org/wiki/Aintree_Motor_Rac...   \n",
       "3  albert_park  http://en.wikipedia.org/wiki/Melbourne_Grand_P...   \n",
       "4     americas  http://en.wikipedia.org/wiki/Circuit_of_the_Am...   \n",
       "\n",
       "                      circuitName  \\\n",
       "0         Adelaide Street Circuit   \n",
       "1                        Ain Diab   \n",
       "2                         Aintree   \n",
       "3  Albert Park Grand Prix Circuit   \n",
       "4         Circuit of the Americas   \n",
       "\n",
       "                                            Location  \n",
       "0  {'lat': '-34.9272', 'long': '138.617', 'locali...  \n",
       "1  {'lat': '33.5786', 'long': '-7.6875', 'localit...  \n",
       "2  {'lat': '53.4769', 'long': '-2.94056', 'locali...  \n",
       "3  {'lat': '-37.8497', 'long': '144.968', 'locali...  \n",
       "4  {'lat': '30.1328', 'long': '-97.6411', 'locali...  "
      ]
     },
     "execution_count": 15,
     "metadata": {},
     "output_type": "execute_result"
    }
   ],
   "source": [
    "df = pd.read_json('../Lucas/circuits.json', orient='records')\n",
    "df.head()"
   ]
  }
 ],
 "metadata": {
  "kernelspec": {
   "display_name": "base",
   "language": "python",
   "name": "python3"
  },
  "language_info": {
   "codemirror_mode": {
    "name": "ipython",
    "version": 3
   },
   "file_extension": ".py",
   "mimetype": "text/x-python",
   "name": "python",
   "nbconvert_exporter": "python",
   "pygments_lexer": "ipython3",
   "version": "3.9.13"
  },
  "orig_nbformat": 4
 },
 "nbformat": 4,
 "nbformat_minor": 2
}
