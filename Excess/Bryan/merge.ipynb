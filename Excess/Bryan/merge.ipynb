{
 "cells": [
  {
   "cell_type": "code",
   "execution_count": 1,
   "metadata": {},
   "outputs": [],
   "source": [
    "# import dependencies\n",
    "import pandas as pd"
   ]
  },
  {
   "cell_type": "code",
   "execution_count": 2,
   "metadata": {},
   "outputs": [],
   "source": [
    "# read in csv files\n",
    "df1 = pd.read_csv('../Jason/Formula1/drivers_clean.csv')\n",
    "df2 = pd.read_csv('../Bryan/f1_salaries.csv')"
   ]
  },
  {
   "cell_type": "code",
   "execution_count": 3,
   "metadata": {},
   "outputs": [
    {
     "data": {
      "text/plain": [
       "Index(['Driver', 'Nationality', 'Team', 'Salary', 'Age', 'Salary_in_Millions'], dtype='object')"
      ]
     },
     "execution_count": 3,
     "metadata": {},
     "output_type": "execute_result"
    }
   ],
   "source": [
    "# merge dataframes on Driver column\n",
    "df = pd.merge(df1, df2, on='Driver')\n",
    "df.columns"
   ]
  },
  {
   "cell_type": "code",
   "execution_count": 4,
   "metadata": {},
   "outputs": [
    {
     "data": {
      "text/plain": [
       "Index(['Driver', 'Nationality', 'Team', 'Age', 'Salary_in_Millions'], dtype='object')"
      ]
     },
     "execution_count": 4,
     "metadata": {},
     "output_type": "execute_result"
    }
   ],
   "source": [
    "# drop unnecessary columns\n",
    "df = df.drop(columns=['Salary'])\n",
    "df.columns"
   ]
  },
  {
   "cell_type": "code",
   "execution_count": 5,
   "metadata": {},
   "outputs": [
    {
     "data": {
      "text/plain": [
       "Index(['Driver', 'Nationality', 'Team', 'Age', 'Salary'], dtype='object')"
      ]
     },
     "execution_count": 5,
     "metadata": {},
     "output_type": "execute_result"
    }
   ],
   "source": [
    "# rename Salary_in_Millions column\n",
    "df = df.rename(columns={'Salary_in_Millions': 'Salary'})\n",
    "df.columns"
   ]
  },
  {
   "cell_type": "code",
   "execution_count": 6,
   "metadata": {},
   "outputs": [
    {
     "data": {
      "text/html": [
       "<div>\n",
       "<style scoped>\n",
       "    .dataframe tbody tr th:only-of-type {\n",
       "        vertical-align: middle;\n",
       "    }\n",
       "\n",
       "    .dataframe tbody tr th {\n",
       "        vertical-align: top;\n",
       "    }\n",
       "\n",
       "    .dataframe thead th {\n",
       "        text-align: right;\n",
       "    }\n",
       "</style>\n",
       "<table border=\"1\" class=\"dataframe\">\n",
       "  <thead>\n",
       "    <tr style=\"text-align: right;\">\n",
       "      <th></th>\n",
       "      <th>Driver</th>\n",
       "      <th>Nationality</th>\n",
       "      <th>Team</th>\n",
       "      <th>Age</th>\n",
       "      <th>Salary</th>\n",
       "    </tr>\n",
       "  </thead>\n",
       "  <tbody>\n",
       "    <tr>\n",
       "      <th>4</th>\n",
       "      <td>Max Verstappen</td>\n",
       "      <td>Dutch</td>\n",
       "      <td>Red Bull</td>\n",
       "      <td>25</td>\n",
       "      <td>55.0</td>\n",
       "    </tr>\n",
       "    <tr>\n",
       "      <th>0</th>\n",
       "      <td>Lewis Hamilton</td>\n",
       "      <td>British</td>\n",
       "      <td>Mercedes</td>\n",
       "      <td>38</td>\n",
       "      <td>35.0</td>\n",
       "    </tr>\n",
       "    <tr>\n",
       "      <th>8</th>\n",
       "      <td>Charles Leclerc</td>\n",
       "      <td>Monegasque</td>\n",
       "      <td>Ferrari</td>\n",
       "      <td>25</td>\n",
       "      <td>24.0</td>\n",
       "    </tr>\n",
       "    <tr>\n",
       "      <th>9</th>\n",
       "      <td>Lando Norris</td>\n",
       "      <td>British</td>\n",
       "      <td>McLaren</td>\n",
       "      <td>23</td>\n",
       "      <td>20.0</td>\n",
       "    </tr>\n",
       "    <tr>\n",
       "      <th>5</th>\n",
       "      <td>Carlos Sainz</td>\n",
       "      <td>Spanish</td>\n",
       "      <td>Ferrari</td>\n",
       "      <td>28</td>\n",
       "      <td>12.0</td>\n",
       "    </tr>\n",
       "  </tbody>\n",
       "</table>\n",
       "</div>"
      ],
      "text/plain": [
       "            Driver Nationality      Team  Age  Salary\n",
       "4   Max Verstappen       Dutch  Red Bull   25    55.0\n",
       "0   Lewis Hamilton     British  Mercedes   38    35.0\n",
       "8  Charles Leclerc  Monegasque   Ferrari   25    24.0\n",
       "9     Lando Norris     British   McLaren   23    20.0\n",
       "5     Carlos Sainz     Spanish   Ferrari   28    12.0"
      ]
     },
     "execution_count": 6,
     "metadata": {},
     "output_type": "execute_result"
    }
   ],
   "source": [
    "# sort by Salary (Millions) column\n",
    "df = df.sort_values(by='Salary', ascending=False)\n",
    "df.head()"
   ]
  },
  {
   "cell_type": "code",
   "execution_count": 7,
   "metadata": {},
   "outputs": [
    {
     "data": {
      "text/html": [
       "<div>\n",
       "<style scoped>\n",
       "    .dataframe tbody tr th:only-of-type {\n",
       "        vertical-align: middle;\n",
       "    }\n",
       "\n",
       "    .dataframe tbody tr th {\n",
       "        vertical-align: top;\n",
       "    }\n",
       "\n",
       "    .dataframe thead th {\n",
       "        text-align: right;\n",
       "    }\n",
       "</style>\n",
       "<table border=\"1\" class=\"dataframe\">\n",
       "  <thead>\n",
       "    <tr style=\"text-align: right;\">\n",
       "      <th></th>\n",
       "      <th>Driver</th>\n",
       "      <th>Nationality</th>\n",
       "      <th>Team</th>\n",
       "      <th>Age</th>\n",
       "      <th>Salary</th>\n",
       "    </tr>\n",
       "  </thead>\n",
       "  <tbody>\n",
       "    <tr>\n",
       "      <th>4</th>\n",
       "      <td>Max Verstappen</td>\n",
       "      <td>Dutch</td>\n",
       "      <td>Red Bull</td>\n",
       "      <td>25</td>\n",
       "      <td>$55.0M</td>\n",
       "    </tr>\n",
       "    <tr>\n",
       "      <th>0</th>\n",
       "      <td>Lewis Hamilton</td>\n",
       "      <td>British</td>\n",
       "      <td>Mercedes</td>\n",
       "      <td>38</td>\n",
       "      <td>$35.0M</td>\n",
       "    </tr>\n",
       "    <tr>\n",
       "      <th>8</th>\n",
       "      <td>Charles Leclerc</td>\n",
       "      <td>Monegasque</td>\n",
       "      <td>Ferrari</td>\n",
       "      <td>25</td>\n",
       "      <td>$24.0M</td>\n",
       "    </tr>\n",
       "    <tr>\n",
       "      <th>9</th>\n",
       "      <td>Lando Norris</td>\n",
       "      <td>British</td>\n",
       "      <td>McLaren</td>\n",
       "      <td>23</td>\n",
       "      <td>$20.0M</td>\n",
       "    </tr>\n",
       "    <tr>\n",
       "      <th>5</th>\n",
       "      <td>Carlos Sainz</td>\n",
       "      <td>Spanish</td>\n",
       "      <td>Ferrari</td>\n",
       "      <td>28</td>\n",
       "      <td>$12.0M</td>\n",
       "    </tr>\n",
       "    <tr>\n",
       "      <th>10</th>\n",
       "      <td>George Russell</td>\n",
       "      <td>British</td>\n",
       "      <td>Mercedes</td>\n",
       "      <td>25</td>\n",
       "      <td>$8.0M</td>\n",
       "    </tr>\n",
       "    <tr>\n",
       "      <th>6</th>\n",
       "      <td>Esteban Ocon</td>\n",
       "      <td>French</td>\n",
       "      <td>Alpine</td>\n",
       "      <td>26</td>\n",
       "      <td>$6.0M</td>\n",
       "    </tr>\n",
       "    <tr>\n",
       "      <th>1</th>\n",
       "      <td>Fernando Alonso</td>\n",
       "      <td>Spanish</td>\n",
       "      <td>Aston Martin</td>\n",
       "      <td>41</td>\n",
       "      <td>$5.0M</td>\n",
       "    </tr>\n",
       "    <tr>\n",
       "      <th>2</th>\n",
       "      <td>Pierre Gasly</td>\n",
       "      <td>French</td>\n",
       "      <td>Alpine</td>\n",
       "      <td>27</td>\n",
       "      <td>$5.0M</td>\n",
       "    </tr>\n",
       "    <tr>\n",
       "      <th>3</th>\n",
       "      <td>Kevin Magnussen</td>\n",
       "      <td>Danish</td>\n",
       "      <td>Haas</td>\n",
       "      <td>30</td>\n",
       "      <td>$5.0M</td>\n",
       "    </tr>\n",
       "    <tr>\n",
       "      <th>7</th>\n",
       "      <td>Lance Stroll</td>\n",
       "      <td>Canadian</td>\n",
       "      <td>Aston Martin</td>\n",
       "      <td>24</td>\n",
       "      <td>$2.0M</td>\n",
       "    </tr>\n",
       "    <tr>\n",
       "      <th>12</th>\n",
       "      <td>Guanyu Zhou</td>\n",
       "      <td>Chinese</td>\n",
       "      <td>Alfa Romeo</td>\n",
       "      <td>23</td>\n",
       "      <td>$2.0M</td>\n",
       "    </tr>\n",
       "    <tr>\n",
       "      <th>13</th>\n",
       "      <td>Nyck de Vries</td>\n",
       "      <td>Dutch</td>\n",
       "      <td>AlphaTauri</td>\n",
       "      <td>28</td>\n",
       "      <td>$2.0M</td>\n",
       "    </tr>\n",
       "    <tr>\n",
       "      <th>14</th>\n",
       "      <td>Oscar Piastri</td>\n",
       "      <td>Australian</td>\n",
       "      <td>McLaren</td>\n",
       "      <td>21</td>\n",
       "      <td>$2.0M</td>\n",
       "    </tr>\n",
       "    <tr>\n",
       "      <th>11</th>\n",
       "      <td>Yuki Tsunoda</td>\n",
       "      <td>Japanese</td>\n",
       "      <td>AlphaTauri</td>\n",
       "      <td>22</td>\n",
       "      <td>$1.0M</td>\n",
       "    </tr>\n",
       "    <tr>\n",
       "      <th>15</th>\n",
       "      <td>Logan Sargeant</td>\n",
       "      <td>American</td>\n",
       "      <td>Williams</td>\n",
       "      <td>22</td>\n",
       "      <td>$1.0M</td>\n",
       "    </tr>\n",
       "  </tbody>\n",
       "</table>\n",
       "</div>"
      ],
      "text/plain": [
       "             Driver Nationality          Team  Age  Salary\n",
       "4    Max Verstappen       Dutch      Red Bull   25  $55.0M\n",
       "0    Lewis Hamilton     British      Mercedes   38  $35.0M\n",
       "8   Charles Leclerc  Monegasque       Ferrari   25  $24.0M\n",
       "9      Lando Norris     British       McLaren   23  $20.0M\n",
       "5      Carlos Sainz     Spanish       Ferrari   28  $12.0M\n",
       "10   George Russell     British      Mercedes   25   $8.0M\n",
       "6      Esteban Ocon      French        Alpine   26   $6.0M\n",
       "1   Fernando Alonso     Spanish  Aston Martin   41   $5.0M\n",
       "2      Pierre Gasly      French        Alpine   27   $5.0M\n",
       "3   Kevin Magnussen      Danish          Haas   30   $5.0M\n",
       "7      Lance Stroll    Canadian  Aston Martin   24   $2.0M\n",
       "12      Guanyu Zhou     Chinese    Alfa Romeo   23   $2.0M\n",
       "13    Nyck de Vries       Dutch    AlphaTauri   28   $2.0M\n",
       "14    Oscar Piastri  Australian       McLaren   21   $2.0M\n",
       "11     Yuki Tsunoda    Japanese    AlphaTauri   22   $1.0M\n",
       "15   Logan Sargeant    American      Williams   22   $1.0M"
      ]
     },
     "execution_count": 7,
     "metadata": {},
     "output_type": "execute_result"
    }
   ],
   "source": [
    "# add $ to Salary (Millions) column\n",
    "df['Salary'] = '$' + df['Salary'].astype(str) + 'M'\n",
    "df"
   ]
  },
  {
   "cell_type": "code",
   "execution_count": 37,
   "metadata": {},
   "outputs": [],
   "source": [
    "# save to csv\n",
    "df.to_csv('driver_info.csv', index=False)"
   ]
  }
 ],
 "metadata": {
  "kernelspec": {
   "display_name": "Python 3",
   "language": "python",
   "name": "python3"
  },
  "language_info": {
   "codemirror_mode": {
    "name": "ipython",
    "version": 3
   },
   "file_extension": ".py",
   "mimetype": "text/x-python",
   "name": "python",
   "nbconvert_exporter": "python",
   "pygments_lexer": "ipython3",
   "version": "3.9.13"
  },
  "orig_nbformat": 4
 },
 "nbformat": 4,
 "nbformat_minor": 2
}
